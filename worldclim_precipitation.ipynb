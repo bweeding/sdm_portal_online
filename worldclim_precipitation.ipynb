{
 "cells": [
  {
   "cell_type": "markdown",
   "id": "621050b3-ebc8-44f8-9f98-6d6c27fa896c",
   "metadata": {
    "tags": []
   },
   "source": [
    "# Worldclim bioclimatic data"
   ]
  },
  {
   "cell_type": "code",
   "execution_count": null,
   "id": "caf0fadd-134c-4062-a797-a94b2a763c5b",
   "metadata": {
    "tags": [
     "remove-input"
    ]
   },
   "outputs": [],
   "source": [
    "import pandas as pd\n",
    "import cartopy.crs as ccrs\n",
    "import hvplot.xarray\n",
    "import hvplot.pandas\n",
    "import xarray as xr\n",
    "from bokeh.plotting import figure, show, output_notebook\n",
    "import bokeh\n",
    "\n",
    "# output_notebook()\n",
    "\n",
    "# https://github.com/the-turing-way/the-turing-way/blob/main/book/website/_toc.yml\n",
    "\n",
    "# copy file structure from book above to reduce html sizes!"
   ]
  },
  {
   "cell_type": "markdown",
   "id": "4790bfb5-f306-4bbf-aed0-d20c949b4d50",
   "metadata": {},
   "source": [
    "This page displays the worldclim elevation and bioclimatic data variables. The contents menu at the top right can be used to navigate the page. Information on the variables can be found at https://www.worldclim.org/data/bioclim.html."
   ]
  },
  {
   "cell_type": "markdown",
   "id": "58780487-ba1d-4730-a76b-1462a7c7a936",
   "metadata": {},
   "source": [
    "## BIO12: Annual precipitation"
   ]
  },
  {
   "cell_type": "code",
   "execution_count": null,
   "id": "0c529fac-02b8-4f27-a643-11a0360a36b4",
   "metadata": {
    "tags": [
     "remove-input",
     "full-width"
    ]
   },
   "outputs": [],
   "source": [
    "ds = xr.open_dataarray('worldclim_data/wc2.1_10m_bio_12.tif')\n",
    "ds = ds.sel(band=1).rename('Annual precipitation')\n",
    "ds = ds.sel(x=slice(45,180),y=slice(60,-60))\n",
    "\n",
    "hover = bokeh.models.HoverTool(tooltips=[(\"Temp\", \"@image mm\"),\n",
    "                                  ],\n",
    "                              formatters = {\"@Temp\":\"printf\"})\n",
    "\n",
    "ds.drop(['band','spatial_ref']).hvplot(x='x',y='y',geo=True,xlim=(89,147), ylim=(-15,28),width=700,height=450,cmap='magma',xlabel='lon',tools=[hover])"
   ]
  },
  {
   "cell_type": "markdown",
   "id": "7772a627-379e-40fe-acb7-7442be892c63",
   "metadata": {},
   "source": [
    "## BIO13: Precipitation of the wettest month"
   ]
  },
  {
   "cell_type": "code",
   "execution_count": null,
   "id": "24c0c507-664c-4457-8711-88efc5f67fb1",
   "metadata": {
    "tags": [
     "remove-input",
     "full-width"
    ]
   },
   "outputs": [],
   "source": [
    "ds = xr.open_dataarray('worldclim_data/wc2.1_10m_bio_13.tif')\n",
    "ds = ds.sel(band=1).rename('Precipitation of the wettest month')\n",
    "ds = ds.sel(x=slice(45,180),y=slice(60,-60))\n",
    "\n",
    "hover = bokeh.models.HoverTool(tooltips=[(\"Temp\", \"@image mm\"),\n",
    "                                  ],\n",
    "                              formatters = {\"@Temp\":\"printf\"})\n",
    "\n",
    "ds.drop(['band','spatial_ref']).hvplot(x='x',y='y',geo=True,xlim=(89,147), ylim=(-15,28),width=700,height=450,cmap='magma',xlabel='lon',tools=[hover])"
   ]
  },
  {
   "cell_type": "markdown",
   "id": "5e6da232-f057-46ac-8785-3ad504fbe233",
   "metadata": {},
   "source": [
    "## BIO14: Precipitation of the driest month"
   ]
  },
  {
   "cell_type": "code",
   "execution_count": null,
   "id": "193ab580-fdc2-4176-8d1b-393aa72192a4",
   "metadata": {
    "tags": [
     "remove-input",
     "full-width"
    ]
   },
   "outputs": [],
   "source": [
    "ds = xr.open_dataarray('worldclim_data/wc2.1_10m_bio_14.tif')\n",
    "ds = ds.sel(band=1).rename('Precipitation of the driest month')\n",
    "ds = ds.sel(x=slice(45,180),y=slice(60,-60))\n",
    "\n",
    "hover = bokeh.models.HoverTool(tooltips=[(\"Temp\", \"@image mm\"),\n",
    "                                  ],\n",
    "                              formatters = {\"@Temp\":\"printf\"})\n",
    "\n",
    "ds.drop(['band','spatial_ref']).hvplot(x='x',y='y',geo=True,xlim=(89,147), ylim=(-15,28),width=700,height=450,cmap='magma',xlabel='lon',tools=[hover])"
   ]
  },
  {
   "cell_type": "markdown",
   "id": "faf51976-afe6-418c-9048-beed43459e7f",
   "metadata": {},
   "source": [
    "## BIO15: Precipitation seasonality"
   ]
  },
  {
   "cell_type": "code",
   "execution_count": null,
   "id": "30349831-d981-4032-9d04-105ae22d3360",
   "metadata": {
    "tags": [
     "remove-input",
     "full-width"
    ]
   },
   "outputs": [],
   "source": [
    "ds = xr.open_dataarray('worldclim_data/wc2.1_10m_bio_15.tif')\n",
    "ds = ds.sel(band=1).rename('Precipitation seasonality')\n",
    "ds = ds.sel(x=slice(45,180),y=slice(60,-60))\n",
    "\n",
    "hover = bokeh.models.HoverTool(tooltips=[(\"Temp\", \"@image mm\"),\n",
    "                                  ],\n",
    "                              formatters = {\"@Temp\":\"printf\"})\n",
    "\n",
    "ds.drop(['band','spatial_ref']).hvplot(x='x',y='y',geo=True,xlim=(89,147), ylim=(-15,28),width=700,height=450,cmap='magma',xlabel='lon',tools=[hover])"
   ]
  },
  {
   "cell_type": "markdown",
   "id": "e08098e9-3220-4f82-8f56-933f69a8d156",
   "metadata": {},
   "source": [
    "## BIO16: Precipitation of the wettest quarter"
   ]
  },
  {
   "cell_type": "code",
   "execution_count": null,
   "id": "d04d04e9-5868-46a6-9852-7200c6a45092",
   "metadata": {
    "tags": [
     "remove-input",
     "full-width"
    ]
   },
   "outputs": [],
   "source": [
    "ds = xr.open_dataarray('worldclim_data/wc2.1_10m_bio_16.tif')\n",
    "ds = ds.sel(band=1).rename('Precipitation of the wettest quarter')\n",
    "ds = ds.sel(x=slice(45,180),y=slice(60,-60))\n",
    "\n",
    "hover = bokeh.models.HoverTool(tooltips=[(\"Temp\", \"@image mm\"),\n",
    "                                  ],\n",
    "                              formatters = {\"@Temp\":\"printf\"})\n",
    "\n",
    "ds.drop(['band','spatial_ref']).hvplot(x='x',y='y',geo=True,xlim=(89,147), ylim=(-15,28),width=700,height=450,cmap='magma',xlabel='lon',tools=[hover])"
   ]
  },
  {
   "cell_type": "markdown",
   "id": "89e5f98b-9256-4f6c-a2c2-dff6b3502226",
   "metadata": {},
   "source": [
    "## BIO17: Precipitation of the driest quarter"
   ]
  },
  {
   "cell_type": "code",
   "execution_count": null,
   "id": "82c104b6-ce54-4af9-92cf-a7b9faf7191c",
   "metadata": {
    "tags": [
     "remove-input",
     "full-width"
    ]
   },
   "outputs": [],
   "source": [
    "ds = xr.open_dataarray('worldclim_data/wc2.1_10m_bio_17.tif')\n",
    "ds = ds.sel(band=1).rename('Precipitation of the driest quarter')\n",
    "ds = ds.sel(x=slice(45,180),y=slice(60,-60))\n",
    "\n",
    "hover = bokeh.models.HoverTool(tooltips=[(\"Temp\", \"@image mm\"),\n",
    "                                  ],\n",
    "                              formatters = {\"@Temp\":\"printf\"})\n",
    "\n",
    "ds.drop(['band','spatial_ref']).hvplot(x='x',y='y',geo=True,xlim=(89,147), ylim=(-15,28),width=700,height=450,cmap='magma',xlabel='lon',tools=[hover])"
   ]
  },
  {
   "cell_type": "markdown",
   "id": "d207f564-bd93-44bc-81ec-1a85577c4ae5",
   "metadata": {},
   "source": [
    "## BIO18: Precipitation of the warmest quarter"
   ]
  },
  {
   "cell_type": "code",
   "execution_count": null,
   "id": "becab7c2-ad07-4f15-89bc-95fe19d01a6c",
   "metadata": {
    "tags": [
     "remove-input",
     "full-width"
    ]
   },
   "outputs": [],
   "source": [
    "ds = xr.open_dataarray('worldclim_data/wc2.1_10m_bio_18.tif')\n",
    "ds = ds.sel(band=1).rename('Precipitation of the warmest quarter')\n",
    "ds = ds.sel(x=slice(45,180),y=slice(60,-60))\n",
    "\n",
    "hover = bokeh.models.HoverTool(tooltips=[(\"Temp\", \"@image mm\"),\n",
    "                                  ],\n",
    "                              formatters = {\"@Temp\":\"printf\"})\n",
    "\n",
    "ds.drop(['band','spatial_ref']).hvplot(x='x',y='y',geo=True,xlim=(89,147), ylim=(-15,28),width=700,height=450,cmap='magma',xlabel='lon',tools=[hover])"
   ]
  },
  {
   "cell_type": "markdown",
   "id": "c5b65143-c4d3-4127-b0e4-6bd3c6895f1d",
   "metadata": {},
   "source": [
    "## BIO19: Precipitation of the coldest quarter"
   ]
  },
  {
   "cell_type": "code",
   "execution_count": null,
   "id": "e1b8f3b3-274d-4e98-9495-858cde3daaab",
   "metadata": {
    "tags": [
     "remove-input",
     "full-width"
    ]
   },
   "outputs": [],
   "source": [
    "ds = xr.open_dataarray('worldclim_data/wc2.1_10m_bio_19.tif')\n",
    "ds = ds.sel(band=1).rename('Precipitation of the coldest quarter')\n",
    "ds = ds.sel(x=slice(45,180),y=slice(60,-60))\n",
    "\n",
    "hover = bokeh.models.HoverTool(tooltips=[(\"Temp\", \"@image mm\"),\n",
    "                                  ],\n",
    "                              formatters = {\"@Temp\":\"printf\"})\n",
    "\n",
    "ds.drop(['band','spatial_ref']).hvplot(x='x',y='y',geo=True,xlim=(89,147), ylim=(-15,28),width=700,height=450,cmap='magma',xlabel='lon',tools=[hover])"
   ]
  }
 ],
 "metadata": {
  "kernelspec": {
   "display_name": "Python 3",
   "language": "python",
   "name": "python3"
  },
  "language_info": {
   "codemirror_mode": {
    "name": "ipython",
    "version": 3
   },
   "file_extension": ".py",
   "mimetype": "text/x-python",
   "name": "python",
   "nbconvert_exporter": "python",
   "pygments_lexer": "ipython3",
   "version": "3.8.8"
  }
 },
 "nbformat": 4,
 "nbformat_minor": 5
}
