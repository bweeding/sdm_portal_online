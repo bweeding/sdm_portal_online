{
 "cells": [
  {
   "cell_type": "markdown",
   "id": "5407c5e6-cf83-443b-a1ba-ef1ccb8747bd",
   "metadata": {},
   "source": [
    "## Elevation (m)"
   ]
  },
  {
   "cell_type": "code",
   "execution_count": null,
   "id": "430fc1f0-b6f8-4810-abcf-7478b1905bab",
   "metadata": {
    "tags": [
     "full-width",
     "remove-input"
    ]
   },
   "outputs": [],
   "source": [
    "# opens the target data as an xarray\n",
    "ds = xr.open_dataarray('worldclim_data/wc2.1_10m_elev.tif')\n",
    "\n",
    "# selects the 1st band of the tif and renames it to the relevant variable\n",
    "ds = ds.sel(band=1).rename('Elevation')\n",
    "\n",
    "# sets the information displayed by the hovertool in the image, including the unit displayed after the number (in this case m).\n",
    "hover = bokeh.models.HoverTool(tooltips=[(\"Elevation\", \"@image m\"),\n",
    "                                  ],\n",
    "                              formatters = {\"@Elevation\":\"printf\"})\n",
    "\n",
    "# plots the image\n",
    "ds.drop(['band','spatial_ref']).hvplot(x='x',y='y',geo=True,xlim=(89,147), ylim=(-15,28),width=800,height=500,cmap='plasma',xlabel='lon',tools=[hover])"
   ]
  }
 ],
 "metadata": {
  "kernelspec": {
   "display_name": "Python 3",
   "language": "python",
   "name": "python3"
  },
  "language_info": {
   "codemirror_mode": {
    "name": "ipython",
    "version": 3
   },
   "file_extension": ".py",
   "mimetype": "text/x-python",
   "name": "python",
   "nbconvert_exporter": "python",
   "pygments_lexer": "ipython3",
   "version": "3.8.8"
  }
 },
 "nbformat": 4,
 "nbformat_minor": 5
}
