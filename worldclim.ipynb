{
 "cells": [
  {
   "cell_type": "markdown",
   "id": "621050b3-ebc8-44f8-9f98-6d6c27fa896c",
   "metadata": {
    "tags": []
   },
   "source": [
    "# Worldclim bioclimatic data"
   ]
  },
  {
   "cell_type": "code",
   "execution_count": null,
   "id": "caf0fadd-134c-4062-a797-a94b2a763c5b",
   "metadata": {
    "tags": [
     "remove-cell"
    ]
   },
   "outputs": [],
   "source": [
    "import pandas as pd\n",
    "import cartopy.crs as ccrs\n",
    "import hvplot.xarray\n",
    "import hvplot.pandas\n",
    "import xarray as xr\n",
    "from bokeh.plotting import figure, show, output_notebook\n",
    "\n",
    "# output_notebook()"
   ]
  },
  {
   "cell_type": "markdown",
   "id": "5407c5e6-cf83-443b-a1ba-ef1ccb8747bd",
   "metadata": {},
   "source": [
    "## Elevation (m)"
   ]
  },
  {
   "cell_type": "code",
   "execution_count": null,
   "id": "430fc1f0-b6f8-4810-abcf-7478b1905bab",
   "metadata": {
    "tags": [
     "full-width"
    ]
   },
   "outputs": [],
   "source": [
    "ds = xr.open_dataarray('worldclim_data/wc2.1_10m_elev.tif')\n",
    "ds = ds.sel(band=1)\n",
    "ds.drop(['band','spatial_ref']).hvplot(x='x',y='y',width=1500,height=1000,cmap='plasma',xlabel='lon')"
   ]
  },
  {
   "cell_type": "markdown",
   "id": "907c7bfb-940e-4ed4-97ba-43a6a8d76dba",
   "metadata": {},
   "source": [
    "## Update check2"
   ]
  }
 ],
 "metadata": {
  "kernelspec": {
   "display_name": "Python 3",
   "language": "python",
   "name": "python3"
  },
  "language_info": {
   "codemirror_mode": {
    "name": "ipython",
    "version": 3
   },
   "file_extension": ".py",
   "mimetype": "text/x-python",
   "name": "python",
   "nbconvert_exporter": "python",
   "pygments_lexer": "ipython3",
   "version": "3.8.8"
  }
 },
 "nbformat": 4,
 "nbformat_minor": 5
}
