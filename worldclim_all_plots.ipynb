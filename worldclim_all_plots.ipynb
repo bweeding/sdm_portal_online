{
 "cells": [
  {
   "cell_type": "markdown",
   "id": "621050b3-ebc8-44f8-9f98-6d6c27fa896c",
   "metadata": {
    "tags": []
   },
   "source": [
    "# Worldclim bioclimatic data"
   ]
  },
  {
   "cell_type": "code",
   "execution_count": null,
   "id": "caf0fadd-134c-4062-a797-a94b2a763c5b",
   "metadata": {
    "tags": [
     "remove-input"
    ]
   },
   "outputs": [],
   "source": [
    "import pandas as pd\n",
    "import cartopy.crs as ccrs\n",
    "import hvplot.xarray\n",
    "import hvplot.pandas\n",
    "import xarray as xr\n",
    "from bokeh.plotting import figure, show, output_notebook\n",
    "import bokeh\n",
    "\n",
    "# output_notebook()\n",
    "\n",
    "# https://github.com/the-turing-way/the-turing-way/blob/main/book/website/_toc.yml\n",
    "\n",
    "# copy file structure from book above to reduce html sizes!"
   ]
  },
  {
   "cell_type": "markdown",
   "id": "4790bfb5-f306-4bbf-aed0-d20c949b4d50",
   "metadata": {},
   "source": [
    "This page displays the worldclim elevation and bioclimatic data variables. The contents menu at the top right can be used to navigate the page. Information on the variables can be found at https://www.worldclim.org/data/bioclim.html."
   ]
  },
  {
   "cell_type": "markdown",
   "id": "5407c5e6-cf83-443b-a1ba-ef1ccb8747bd",
   "metadata": {},
   "source": [
    "## Elevation (m)"
   ]
  },
  {
   "cell_type": "code",
   "execution_count": null,
   "id": "430fc1f0-b6f8-4810-abcf-7478b1905bab",
   "metadata": {
    "tags": [
     "full-width",
     "remove-input"
    ]
   },
   "outputs": [],
   "source": [
    "# opens the target data as an xarray\n",
    "ds = xr.open_dataarray('worldclim_data/wc2.1_10m_elev.tif')\n",
    "\n",
    "# selects the 1st band of the tif and renames it to the relevant variable\n",
    "ds = ds.sel(band=1).rename('Elevation')\n",
    "\n",
    "# sets the information displayed by the hovertool in the image, including the unit displayed after the number (in this case m).\n",
    "hover = bokeh.models.HoverTool(tooltips=[(\"Elevation\", \"@image m\"),\n",
    "                                  ],\n",
    "                              formatters = {\"@Elevation\":\"printf\"})\n",
    "\n",
    "# plots the image\n",
    "ds.drop(['band','spatial_ref']).hvplot(x='x',y='y',geo=True,xlim=(89,147), ylim=(-15,28),width=800,height=500,cmap='plasma',xlabel='lon',tools=[hover])"
   ]
  },
  {
   "cell_type": "markdown",
   "id": "907c7bfb-940e-4ed4-97ba-43a6a8d76dba",
   "metadata": {},
   "source": [
    "## BIO1: Annual air mean temperature (°C)"
   ]
  },
  {
   "cell_type": "code",
   "execution_count": null,
   "id": "4c6825ef-20c4-4451-851d-c1ca6bfd3a7d",
   "metadata": {
    "tags": [
     "remove-input",
     "full-width"
    ]
   },
   "outputs": [],
   "source": [
    "ds = xr.open_dataarray('worldclim_data/wc2.1_10m_bio_1.tif')\n",
    "ds = ds.sel(band=1).rename('Annual mean air temperature')\n",
    "\n",
    "hover = bokeh.models.HoverTool(tooltips=[(\"Temp\", \"@image °C\"),\n",
    "                                  ],\n",
    "                              formatters = {\"@Temp\":\"printf\"})\n",
    "\n",
    "ds.drop(['band','spatial_ref']).hvplot(x='x',y='y',geo=True,xlim=(89,147), ylim=(-15,28),width=800,height=500,cmap='magma',xlabel='lon',tools=[hover])\n"
   ]
  },
  {
   "cell_type": "markdown",
   "id": "a5f98988-b6b8-49bf-872e-3999c56be2bd",
   "metadata": {},
   "source": [
    "## BIO2: Mean diurnal range (°C)"
   ]
  },
  {
   "cell_type": "code",
   "execution_count": null,
   "id": "bef275bd-6b37-4189-9e3a-49599ac33a26",
   "metadata": {
    "tags": [
     "remove-input",
     "full-width"
    ]
   },
   "outputs": [],
   "source": [
    "ds = xr.open_dataarray('worldclim_data/wc2.1_10m_bio_2.tif')\n",
    "ds = ds.sel(band=1).rename('Mean diurnal range')\n",
    "\n",
    "hover = bokeh.models.HoverTool(tooltips=[(\"Temp\", \"@image °C\"),\n",
    "                                  ],\n",
    "                              formatters = {\"@Temp\":\"printf\"})\n",
    "\n",
    "ds.drop(['band','spatial_ref']).hvplot(x='x',y='y',geo=True,xlim=(89,147), ylim=(-15,28),width=800,height=500,cmap='magma',xlabel='lon',tools=[hover])"
   ]
  },
  {
   "cell_type": "markdown",
   "id": "eaa3de4c-fcfd-4788-935c-170fed3bd9a2",
   "metadata": {},
   "source": [
    "## BIO3: Isothermality"
   ]
  },
  {
   "cell_type": "code",
   "execution_count": null,
   "id": "2568d95a-9154-4965-917b-d655f51ceb95",
   "metadata": {},
   "outputs": [],
   "source": [
    "ds = xr.open_dataarray('worldclim_data/wc2.1_10m_bio_3.tif')\n",
    "ds = ds.sel(band=1).rename('Isothermality')\n",
    "\n",
    "hover = bokeh.models.HoverTool(tooltips=[(\"Temp\", \"@image °C\"),\n",
    "                                  ],\n",
    "                              formatters = {\"@Temp\":\"printf\"})\n",
    "\n",
    "ds.drop(['band','spatial_ref']).hvplot(x='x',y='y',geo=True,xlim=(89,147), ylim=(-15,28),width=800,height=500,cmap='magma',xlabel='lon',tools=[hover])"
   ]
  },
  {
   "cell_type": "markdown",
   "id": "ab6f583a-4450-474d-bfad-18ac16f059f2",
   "metadata": {},
   "source": [
    "## BIO4: Temperature seasonality"
   ]
  },
  {
   "cell_type": "code",
   "execution_count": null,
   "id": "f53789ff-aeb4-4305-898d-4e2f5d82e789",
   "metadata": {},
   "outputs": [],
   "source": [
    "ds = xr.open_dataarray('worldclim_data/wc2.1_10m_bio_4.tif')\n",
    "ds = ds.sel(band=1).rename('Temperature seasonality')\n",
    "\n",
    "hover = bokeh.models.HoverTool(tooltips=[(\"Temp\", \"@image °C\"),\n",
    "                                  ],\n",
    "                              formatters = {\"@Temp\":\"printf\"})\n",
    "\n",
    "ds.drop(['band','spatial_ref']).hvplot(x='x',y='y',geo=True,xlim=(89,147), ylim=(-15,28),width=800,height=500,cmap='magma',xlabel='lon',tools=[hover])"
   ]
  },
  {
   "cell_type": "markdown",
   "id": "a0ef970f-432d-4e95-bd9a-27a6fc56f5b8",
   "metadata": {},
   "source": [
    "## BIO5: Maximum temperature of warmest month"
   ]
  },
  {
   "cell_type": "code",
   "execution_count": null,
   "id": "bdd43d09-c5f3-405b-930c-94bfd0e926fa",
   "metadata": {},
   "outputs": [],
   "source": [
    "ds = xr.open_dataarray('worldclim_data/wc2.1_10m_bio_5.tif')\n",
    "ds = ds.sel(band=1).rename('Maximum temperature of warmest month')\n",
    "\n",
    "hover = bokeh.models.HoverTool(tooltips=[(\"Temp\", \"@image °C\"),\n",
    "                                  ],\n",
    "                              formatters = {\"@Temp\":\"printf\"})\n",
    "\n",
    "ds.drop(['band','spatial_ref']).hvplot(x='x',y='y',geo=True,xlim=(89,147), ylim=(-15,28),width=800,height=500,cmap='magma',xlabel='lon',tools=[hover])"
   ]
  },
  {
   "cell_type": "markdown",
   "id": "4cebf54e-991c-49a9-8782-8867b7c24b1d",
   "metadata": {},
   "source": [
    "## BIO6: Minimum temperature of coldest month"
   ]
  },
  {
   "cell_type": "code",
   "execution_count": null,
   "id": "750f57f8-4574-4d25-b415-ec50dca012d5",
   "metadata": {},
   "outputs": [],
   "source": [
    "ds = xr.open_dataarray('worldclim_data/wc2.1_10m_bio_6.tif')\n",
    "ds = ds.sel(band=1).rename('Minimum temperature of coldest month')\n",
    "\n",
    "hover = bokeh.models.HoverTool(tooltips=[(\"Temp\", \"@image °C\"),\n",
    "                                  ],\n",
    "                              formatters = {\"@Temp\":\"printf\"})\n",
    "\n",
    "ds.drop(['band','spatial_ref']).hvplot(x='x',y='y',geo=True,xlim=(89,147), ylim=(-15,28),width=800,height=500,cmap='magma',xlabel='lon',tools=[hover])"
   ]
  },
  {
   "cell_type": "markdown",
   "id": "23e5bb97-d2f7-432f-a46b-ef244fdd4bbd",
   "metadata": {},
   "source": [
    "## BIO7: Temperature annual range"
   ]
  },
  {
   "cell_type": "code",
   "execution_count": null,
   "id": "b59534ac-06b2-4d7c-9dd9-c5d8d3999cad",
   "metadata": {},
   "outputs": [],
   "source": [
    "ds = xr.open_dataarray('worldclim_data/wc2.1_10m_bio_7.tif')\n",
    "ds = ds.sel(band=1).rename('Temperature annual range')\n",
    "\n",
    "hover = bokeh.models.HoverTool(tooltips=[(\"Temp\", \"@image °C\"),\n",
    "                                  ],\n",
    "                              formatters = {\"@Temp\":\"printf\"})\n",
    "\n",
    "ds.drop(['band','spatial_ref']).hvplot(x='x',y='y',geo=True,xlim=(89,147), ylim=(-15,28),width=800,height=500,cmap='magma',xlabel='lon',tools=[hover])"
   ]
  },
  {
   "cell_type": "markdown",
   "id": "e35d0645-c476-4376-bda7-c0f83ad79e37",
   "metadata": {},
   "source": [
    "## BIO8: Mean temperature of wettest quarter"
   ]
  },
  {
   "cell_type": "code",
   "execution_count": null,
   "id": "63b49d08-716f-4ec0-a3c6-afd60868c50b",
   "metadata": {},
   "outputs": [],
   "source": [
    "ds = xr.open_dataarray('worldclim_data/wc2.1_10m_bio_8.tif')\n",
    "ds = ds.sel(band=1).rename('Mean temperature of wettest quarter')\n",
    "\n",
    "hover = bokeh.models.HoverTool(tooltips=[(\"Temp\", \"@image °C\"),\n",
    "                                  ],\n",
    "                              formatters = {\"@Temp\":\"printf\"})\n",
    "\n",
    "ds.drop(['band','spatial_ref']).hvplot(x='x',y='y',geo=True,xlim=(89,147), ylim=(-15,28),width=800,height=500,cmap='magma',xlabel='lon',tools=[hover])"
   ]
  },
  {
   "cell_type": "markdown",
   "id": "61e13cf0-7f9e-4789-b71e-3c6a000115b9",
   "metadata": {},
   "source": [
    "## BIO9: Mean temperature of driest quarter"
   ]
  },
  {
   "cell_type": "code",
   "execution_count": null,
   "id": "2120cb1c-68d8-4d57-84ef-36833b0e23e1",
   "metadata": {},
   "outputs": [],
   "source": [
    "ds = xr.open_dataarray('worldclim_data/wc2.1_10m_bio_9.tif')\n",
    "ds = ds.sel(band=1).rename('Mean temperature of driest quarter')\n",
    "\n",
    "hover = bokeh.models.HoverTool(tooltips=[(\"Temp\", \"@image °C\"),\n",
    "                                  ],\n",
    "                              formatters = {\"@Temp\":\"printf\"})\n",
    "\n",
    "ds.drop(['band','spatial_ref']).hvplot(x='x',y='y',geo=True,xlim=(89,147), ylim=(-15,28),width=800,height=500,cmap='magma',xlabel='lon',tools=[hover])"
   ]
  },
  {
   "cell_type": "markdown",
   "id": "388e228a-b299-4ea4-809c-a186e49a17d6",
   "metadata": {},
   "source": [
    "## BIO10: Mean temperature of warmest quarter"
   ]
  },
  {
   "cell_type": "code",
   "execution_count": null,
   "id": "f897784d-10b1-4e6b-acad-8342fa74c969",
   "metadata": {},
   "outputs": [],
   "source": [
    "ds = xr.open_dataarray('worldclim_data/wc2.1_10m_bio_10.tif')\n",
    "ds = ds.sel(band=1).rename('Mean temperature of warmest quarter')\n",
    "\n",
    "hover = bokeh.models.HoverTool(tooltips=[(\"Temp\", \"@image °C\"),\n",
    "                                  ],\n",
    "                              formatters = {\"@Temp\":\"printf\"})\n",
    "\n",
    "ds.drop(['band','spatial_ref']).hvplot(x='x',y='y',geo=True,xlim=(89,147), ylim=(-15,28),width=800,height=500,cmap='magma',xlabel='lon',tools=[hover])"
   ]
  },
  {
   "cell_type": "markdown",
   "id": "87a1ffaa-7e3a-4d6e-88ca-11897b20371a",
   "metadata": {},
   "source": [
    "## BIO11: Mean temperature of coldest quarter"
   ]
  },
  {
   "cell_type": "code",
   "execution_count": null,
   "id": "b98a904e-2b0f-44dc-98d8-aead3e6a5b4f",
   "metadata": {},
   "outputs": [],
   "source": [
    "ds = xr.open_dataarray('worldclim_data/wc2.1_10m_bio_11.tif')\n",
    "ds = ds.sel(band=1).rename('Mean temperature of coldest quarter')\n",
    "\n",
    "hover = bokeh.models.HoverTool(tooltips=[(\"Temp\", \"@image °C\"),\n",
    "                                  ],\n",
    "                              formatters = {\"@Temp\":\"printf\"})\n",
    "\n",
    "ds.drop(['band','spatial_ref']).hvplot(x='x',y='y',geo=True,xlim=(89,147), ylim=(-15,28),width=800,height=500,cmap='magma',xlabel='lon',tools=[hover])"
   ]
  },
  {
   "cell_type": "markdown",
   "id": "58780487-ba1d-4730-a76b-1462a7c7a936",
   "metadata": {},
   "source": [
    "## BIO12: Annual precipitation"
   ]
  },
  {
   "cell_type": "code",
   "execution_count": null,
   "id": "0c529fac-02b8-4f27-a643-11a0360a36b4",
   "metadata": {},
   "outputs": [],
   "source": [
    "ds = xr.open_dataarray('worldclim_data/wc2.1_10m_bio_12.tif')\n",
    "ds = ds.sel(band=1).rename('Annual precipitation')\n",
    "\n",
    "hover = bokeh.models.HoverTool(tooltips=[(\"Temp\", \"@image mm\"),\n",
    "                                  ],\n",
    "                              formatters = {\"@Temp\":\"printf\"})\n",
    "\n",
    "ds.drop(['band','spatial_ref']).hvplot(x='x',y='y',geo=True,xlim=(89,147), ylim=(-15,28),width=800,height=500,cmap='magma',xlabel='lon',tools=[hover])"
   ]
  },
  {
   "cell_type": "markdown",
   "id": "7772a627-379e-40fe-acb7-7442be892c63",
   "metadata": {},
   "source": [
    "## BIO13: Precipitation of the wettest month"
   ]
  },
  {
   "cell_type": "code",
   "execution_count": null,
   "id": "24c0c507-664c-4457-8711-88efc5f67fb1",
   "metadata": {},
   "outputs": [],
   "source": [
    "ds = xr.open_dataarray('worldclim_data/wc2.1_10m_bio_13.tif')\n",
    "ds = ds.sel(band=1).rename('Precipitation of the wettest month')\n",
    "\n",
    "hover = bokeh.models.HoverTool(tooltips=[(\"Temp\", \"@image mm\"),\n",
    "                                  ],\n",
    "                              formatters = {\"@Temp\":\"printf\"})\n",
    "\n",
    "ds.drop(['band','spatial_ref']).hvplot(x='x',y='y',geo=True,xlim=(89,147), ylim=(-15,28),width=800,height=500,cmap='magma',xlabel='lon',tools=[hover])"
   ]
  },
  {
   "cell_type": "markdown",
   "id": "5e6da232-f057-46ac-8785-3ad504fbe233",
   "metadata": {},
   "source": [
    "## BIO14: Precipitation of the driest month"
   ]
  },
  {
   "cell_type": "code",
   "execution_count": null,
   "id": "193ab580-fdc2-4176-8d1b-393aa72192a4",
   "metadata": {},
   "outputs": [],
   "source": [
    "ds = xr.open_dataarray('worldclim_data/wc2.1_10m_bio_14.tif')\n",
    "ds = ds.sel(band=1).rename('Precipitation of the driest month')\n",
    "\n",
    "hover = bokeh.models.HoverTool(tooltips=[(\"Temp\", \"@image mm\"),\n",
    "                                  ],\n",
    "                              formatters = {\"@Temp\":\"printf\"})\n",
    "\n",
    "ds.drop(['band','spatial_ref']).hvplot(x='x',y='y',geo=True,xlim=(89,147), ylim=(-15,28),width=800,height=500,cmap='magma',xlabel='lon',tools=[hover])"
   ]
  },
  {
   "cell_type": "markdown",
   "id": "faf51976-afe6-418c-9048-beed43459e7f",
   "metadata": {},
   "source": [
    "## BIO15: Precipitation seasonality"
   ]
  },
  {
   "cell_type": "code",
   "execution_count": null,
   "id": "30349831-d981-4032-9d04-105ae22d3360",
   "metadata": {},
   "outputs": [],
   "source": [
    "ds = xr.open_dataarray('worldclim_data/wc2.1_10m_bio_15.tif')\n",
    "ds = ds.sel(band=1).rename('MPrecipitation seasonality')\n",
    "\n",
    "hover = bokeh.models.HoverTool(tooltips=[(\"Temp\", \"@image mm\"),\n",
    "                                  ],\n",
    "                              formatters = {\"@Temp\":\"printf\"})\n",
    "\n",
    "ds.drop(['band','spatial_ref']).hvplot(x='x',y='y',geo=True,xlim=(89,147), ylim=(-15,28),width=800,height=500,cmap='magma',xlabel='lon',tools=[hover])"
   ]
  },
  {
   "cell_type": "markdown",
   "id": "e08098e9-3220-4f82-8f56-933f69a8d156",
   "metadata": {},
   "source": [
    "## BIO16: Precipitation of the wettest quarter"
   ]
  },
  {
   "cell_type": "code",
   "execution_count": null,
   "id": "d04d04e9-5868-46a6-9852-7200c6a45092",
   "metadata": {},
   "outputs": [],
   "source": [
    "ds = xr.open_dataarray('worldclim_data/wc2.1_10m_bio_16.tif')\n",
    "ds = ds.sel(band=1).rename('Precipitation of the wettest quarter')\n",
    "\n",
    "hover = bokeh.models.HoverTool(tooltips=[(\"Temp\", \"@image mm\"),\n",
    "                                  ],\n",
    "                              formatters = {\"@Temp\":\"printf\"})\n",
    "\n",
    "ds.drop(['band','spatial_ref']).hvplot(x='x',y='y',geo=True,xlim=(89,147), ylim=(-15,28),width=800,height=500,cmap='magma',xlabel='lon',tools=[hover])"
   ]
  },
  {
   "cell_type": "markdown",
   "id": "89e5f98b-9256-4f6c-a2c2-dff6b3502226",
   "metadata": {},
   "source": [
    "## BIO17: Precipitation of the driest quarter"
   ]
  },
  {
   "cell_type": "code",
   "execution_count": null,
   "id": "82c104b6-ce54-4af9-92cf-a7b9faf7191c",
   "metadata": {},
   "outputs": [],
   "source": [
    "ds = xr.open_dataarray('worldclim_data/wc2.1_10m_bio_17.tif')\n",
    "ds = ds.sel(band=1).rename('Precipitation of the driest quarter')\n",
    "\n",
    "hover = bokeh.models.HoverTool(tooltips=[(\"Temp\", \"@image mm\"),\n",
    "                                  ],\n",
    "                              formatters = {\"@Temp\":\"printf\"})\n",
    "\n",
    "ds.drop(['band','spatial_ref']).hvplot(x='x',y='y',geo=True,xlim=(89,147), ylim=(-15,28),width=800,height=500,cmap='magma',xlabel='lon',tools=[hover])"
   ]
  },
  {
   "cell_type": "markdown",
   "id": "d207f564-bd93-44bc-81ec-1a85577c4ae5",
   "metadata": {},
   "source": [
    "## BIO18: Precipitation of the warmest quarter"
   ]
  },
  {
   "cell_type": "code",
   "execution_count": null,
   "id": "becab7c2-ad07-4f15-89bc-95fe19d01a6c",
   "metadata": {},
   "outputs": [],
   "source": [
    "ds = xr.open_dataarray('worldclim_data/wc2.1_10m_bio_18.tif')\n",
    "ds = ds.sel(band=1).rename('Precipitation of the warmest quarter')\n",
    "\n",
    "hover = bokeh.models.HoverTool(tooltips=[(\"Temp\", \"@image mm\"),\n",
    "                                  ],\n",
    "                              formatters = {\"@Temp\":\"printf\"})\n",
    "\n",
    "ds.drop(['band','spatial_ref']).hvplot(x='x',y='y',geo=True,xlim=(89,147), ylim=(-15,28),width=800,height=500,cmap='magma',xlabel='lon',tools=[hover])"
   ]
  },
  {
   "cell_type": "markdown",
   "id": "c5b65143-c4d3-4127-b0e4-6bd3c6895f1d",
   "metadata": {},
   "source": [
    "## BIO19: Precipitation of the coldest quarter"
   ]
  },
  {
   "cell_type": "code",
   "execution_count": null,
   "id": "e1b8f3b3-274d-4e98-9495-858cde3daaab",
   "metadata": {},
   "outputs": [],
   "source": [
    "ds = xr.open_dataarray('worldclim_data/wc2.1_10m_bio_19.tif')\n",
    "ds = ds.sel(band=1).rename('Precipitation of the coldest quarter')\n",
    "\n",
    "hover = bokeh.models.HoverTool(tooltips=[(\"Temp\", \"@image mm\"),\n",
    "                                  ],\n",
    "                              formatters = {\"@Temp\":\"printf\"})\n",
    "\n",
    "ds.drop(['band','spatial_ref']).hvplot(x='x',y='y',geo=True,xlim=(89,147), ylim=(-15,28),width=800,height=500,cmap='magma',xlabel='lon',tools=[hover])"
   ]
  }
 ],
 "metadata": {
  "kernelspec": {
   "display_name": "Python 3",
   "language": "python",
   "name": "python3"
  },
  "language_info": {
   "codemirror_mode": {
    "name": "ipython",
    "version": 3
   },
   "file_extension": ".py",
   "mimetype": "text/x-python",
   "name": "python",
   "nbconvert_exporter": "python",
   "pygments_lexer": "ipython3",
   "version": "3.8.8"
  }
 },
 "nbformat": 4,
 "nbformat_minor": 5
}
