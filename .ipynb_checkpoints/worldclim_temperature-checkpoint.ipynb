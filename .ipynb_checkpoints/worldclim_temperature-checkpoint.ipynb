{
 "cells": [
  {
   "cell_type": "markdown",
   "id": "621050b3-ebc8-44f8-9f98-6d6c27fa896c",
   "metadata": {
    "tags": []
   },
   "source": [
    "# Worldclim bioclimatic data"
   ]
  },
  {
   "cell_type": "code",
   "execution_count": null,
   "id": "caf0fadd-134c-4062-a797-a94b2a763c5b",
   "metadata": {
    "tags": [
     "remove-input"
    ]
   },
   "outputs": [],
   "source": [
    "import pandas as pd\n",
    "import cartopy.crs as ccrs\n",
    "import hvplot.xarray\n",
    "import hvplot.pandas\n",
    "import xarray as xr\n",
    "from bokeh.plotting import figure, show, output_notebook\n",
    "import bokeh\n",
    "\n",
    "# output_notebook()\n",
    "\n",
    "# https://github.com/the-turing-way/the-turing-way/blob/main/book/website/_toc.yml\n",
    "\n",
    "# copy file structure from book above to reduce html sizes!\n",
    "\n",
    "tiles_state=True"
   ]
  },
  {
   "cell_type": "markdown",
   "id": "4790bfb5-f306-4bbf-aed0-d20c949b4d50",
   "metadata": {},
   "source": [
    "This page displays the worldclim elevation and bioclimatic data variables. The contents menu at the top right can be used to navigate the page. Information on the variables can be found at https://www.worldclim.org/data/bioclim.html."
   ]
  },
  {
   "cell_type": "markdown",
   "id": "907c7bfb-940e-4ed4-97ba-43a6a8d76dba",
   "metadata": {},
   "source": [
    "## BIO1: Annual air mean temperature (°C)"
   ]
  },
  {
   "cell_type": "code",
   "execution_count": null,
   "id": "4c6825ef-20c4-4451-851d-c1ca6bfd3a7d",
   "metadata": {
    "tags": [
     "remove-input",
     "full-width"
    ]
   },
   "outputs": [],
   "source": [
    "ds = xr.open_dataarray('worldclim_data/wc2.1_10m_bio_1.tif')\n",
    "ds = ds.sel(band=1).rename('Annual mean air temperature')\n",
    "ds = ds.sel(x=slice(45,180),y=slice(60,-60))\n",
    "\n",
    "hover = bokeh.models.HoverTool(tooltips=[(\"Temp\", \"@image °C\"),\n",
    "                                  ],\n",
    "                              formatters = {\"@Temp\":\"printf\"})\n",
    "\n",
    "ds.drop(['band','spatial_ref']).hvplot(x='x',y='y',geo=True,xlim=(89,147), ylim=(-15,28),width=700,height=450,cmap='magma',xlabel='lon',tools=[hover],tiles=tiles_state)\n"
   ]
  },
  {
   "cell_type": "markdown",
   "id": "a5f98988-b6b8-49bf-872e-3999c56be2bd",
   "metadata": {},
   "source": [
    "## BIO2: Mean diurnal range (°C)"
   ]
  },
  {
   "cell_type": "code",
   "execution_count": null,
   "id": "bef275bd-6b37-4189-9e3a-49599ac33a26",
   "metadata": {
    "tags": [
     "remove-input",
     "full-width"
    ]
   },
   "outputs": [],
   "source": [
    "ds = xr.open_dataarray('worldclim_data/wc2.1_10m_bio_2.tif')\n",
    "ds = ds.sel(band=1).rename('Mean diurnal range')\n",
    "ds = ds.sel(x=slice(45,180),y=slice(60,-60))\n",
    "\n",
    "hover = bokeh.models.HoverTool(tooltips=[(\"Temp\", \"@image °C\"),\n",
    "                                  ],\n",
    "                              formatters = {\"@Temp\":\"printf\"})\n",
    "\n",
    "ds.drop(['band','spatial_ref']).hvplot(x='x',y='y',geo=True,xlim=(89,147), ylim=(-15,28),width=700,height=450,cmap='magma',xlabel='lon',tools=[hover],tiles=tiles_state)"
   ]
  },
  {
   "cell_type": "markdown",
   "id": "eaa3de4c-fcfd-4788-935c-170fed3bd9a2",
   "metadata": {},
   "source": [
    "## BIO3: Isothermality"
   ]
  },
  {
   "cell_type": "code",
   "execution_count": null,
   "id": "2568d95a-9154-4965-917b-d655f51ceb95",
   "metadata": {},
   "outputs": [],
   "source": [
    "ds = xr.open_dataarray('worldclim_data/wc2.1_10m_bio_3.tif')\n",
    "ds = ds.sel(band=1).rename('Isothermality')\n",
    "ds = ds.sel(x=slice(45,180),y=slice(60,-60))\n",
    "\n",
    "hover = bokeh.models.HoverTool(tooltips=[(\"Temp\", \"@image °C\"),\n",
    "                                  ],\n",
    "                              formatters = {\"@Temp\":\"printf\"})\n",
    "\n",
    "ds.drop(['band','spatial_ref']).hvplot(x='x',y='y',geo=True,xlim=(89,147), ylim=(-15,28),width=700,height=450,cmap='magma',xlabel='lon',tools=[hover],tiles=tiles_state)"
   ]
  },
  {
   "cell_type": "markdown",
   "id": "ab6f583a-4450-474d-bfad-18ac16f059f2",
   "metadata": {},
   "source": [
    "## BIO4: Temperature seasonality"
   ]
  },
  {
   "cell_type": "code",
   "execution_count": null,
   "id": "f53789ff-aeb4-4305-898d-4e2f5d82e789",
   "metadata": {},
   "outputs": [],
   "source": [
    "ds = xr.open_dataarray('worldclim_data/wc2.1_10m_bio_4.tif')\n",
    "ds = ds.sel(band=1).rename('Temperature seasonality')\n",
    "ds = ds.sel(x=slice(45,180),y=slice(60,-60))\n",
    "\n",
    "hover = bokeh.models.HoverTool(tooltips=[(\"Temp\", \"@image °C\"),\n",
    "                                  ],\n",
    "                              formatters = {\"@Temp\":\"printf\"})\n",
    "\n",
    "ds.drop(['band','spatial_ref']).hvplot(x='x',y='y',geo=True,xlim=(89,147), ylim=(-15,28),width=700,height=450,cmap='magma',xlabel='lon',tools=[hover],tiles=tiles_state)"
   ]
  },
  {
   "cell_type": "markdown",
   "id": "a0ef970f-432d-4e95-bd9a-27a6fc56f5b8",
   "metadata": {},
   "source": [
    "## BIO5: Maximum temperature of warmest month"
   ]
  },
  {
   "cell_type": "code",
   "execution_count": null,
   "id": "bdd43d09-c5f3-405b-930c-94bfd0e926fa",
   "metadata": {},
   "outputs": [],
   "source": [
    "ds = xr.open_dataarray('worldclim_data/wc2.1_10m_bio_5.tif')\n",
    "ds = ds.sel(band=1).rename('Maximum temperature of warmest month')\n",
    "ds = ds.sel(x=slice(45,180),y=slice(60,-60))\n",
    "\n",
    "hover = bokeh.models.HoverTool(tooltips=[(\"Temp\", \"@image °C\"),\n",
    "                                  ],\n",
    "                              formatters = {\"@Temp\":\"printf\"})\n",
    "\n",
    "ds.drop(['band','spatial_ref']).hvplot(x='x',y='y',geo=True,xlim=(89,147), ylim=(-15,28),width=700,height=450,cmap='magma',xlabel='lon',tools=[hover],tiles=tiles_state)"
   ]
  },
  {
   "cell_type": "markdown",
   "id": "4cebf54e-991c-49a9-8782-8867b7c24b1d",
   "metadata": {},
   "source": [
    "## BIO6: Minimum temperature of coldest month"
   ]
  },
  {
   "cell_type": "code",
   "execution_count": null,
   "id": "750f57f8-4574-4d25-b415-ec50dca012d5",
   "metadata": {},
   "outputs": [],
   "source": [
    "ds = xr.open_dataarray('worldclim_data/wc2.1_10m_bio_6.tif')\n",
    "ds = ds.sel(band=1).rename('Minimum temperature of coldest month')\n",
    "ds = ds.sel(x=slice(45,180),y=slice(60,-60))\n",
    "\n",
    "hover = bokeh.models.HoverTool(tooltips=[(\"Temp\", \"@image °C\"),\n",
    "                                  ],\n",
    "                              formatters = {\"@Temp\":\"printf\"})\n",
    "\n",
    "ds.drop(['band','spatial_ref']).hvplot(x='x',y='y',geo=True,xlim=(89,147), ylim=(-15,28),width=700,height=450,cmap='magma',xlabel='lon',tools=[hover],tiles=tiles_state)"
   ]
  },
  {
   "cell_type": "markdown",
   "id": "23e5bb97-d2f7-432f-a46b-ef244fdd4bbd",
   "metadata": {},
   "source": [
    "## BIO7: Temperature annual range"
   ]
  },
  {
   "cell_type": "code",
   "execution_count": null,
   "id": "b59534ac-06b2-4d7c-9dd9-c5d8d3999cad",
   "metadata": {},
   "outputs": [],
   "source": [
    "ds = xr.open_dataarray('worldclim_data/wc2.1_10m_bio_7.tif')\n",
    "ds = ds.sel(band=1).rename('Temperature annual range')\n",
    "ds = ds.sel(x=slice(45,180),y=slice(60,-60))\n",
    "\n",
    "hover = bokeh.models.HoverTool(tooltips=[(\"Temp\", \"@image °C\"),\n",
    "                                  ],\n",
    "                              formatters = {\"@Temp\":\"printf\"})\n",
    "\n",
    "ds.drop(['band','spatial_ref']).hvplot(x='x',y='y',geo=True,xlim=(89,147), ylim=(-15,28),width=700,height=450,cmap='magma',xlabel='lon',tools=[hover],tiles=tiles_state)"
   ]
  },
  {
   "cell_type": "markdown",
   "id": "e35d0645-c476-4376-bda7-c0f83ad79e37",
   "metadata": {},
   "source": [
    "## BIO8: Mean temperature of wettest quarter"
   ]
  },
  {
   "cell_type": "code",
   "execution_count": null,
   "id": "63b49d08-716f-4ec0-a3c6-afd60868c50b",
   "metadata": {},
   "outputs": [],
   "source": [
    "ds = xr.open_dataarray('worldclim_data/wc2.1_10m_bio_8.tif')\n",
    "ds = ds.sel(band=1).rename('Mean temperature of wettest quarter')\n",
    "ds = ds.sel(x=slice(45,180),y=slice(60,-60))\n",
    "\n",
    "hover = bokeh.models.HoverTool(tooltips=[(\"Temp\", \"@image °C\"),\n",
    "                                  ],\n",
    "                              formatters = {\"@Temp\":\"printf\"})\n",
    "\n",
    "ds.drop(['band','spatial_ref']).hvplot(x='x',y='y',geo=True,xlim=(89,147), ylim=(-15,28),width=700,height=450,cmap='magma',xlabel='lon',tools=[hover],tiles=tiles_state)"
   ]
  },
  {
   "cell_type": "markdown",
   "id": "61e13cf0-7f9e-4789-b71e-3c6a000115b9",
   "metadata": {},
   "source": [
    "## BIO9: Mean temperature of driest quarter"
   ]
  },
  {
   "cell_type": "code",
   "execution_count": null,
   "id": "2120cb1c-68d8-4d57-84ef-36833b0e23e1",
   "metadata": {},
   "outputs": [],
   "source": [
    "ds = xr.open_dataarray('worldclim_data/wc2.1_10m_bio_9.tif')\n",
    "ds = ds.sel(band=1).rename('Mean temperature of driest quarter')\n",
    "ds = ds.sel(x=slice(45,180),y=slice(60,-60))\n",
    "\n",
    "hover = bokeh.models.HoverTool(tooltips=[(\"Temp\", \"@image °C\"),\n",
    "                                  ],\n",
    "                              formatters = {\"@Temp\":\"printf\"})\n",
    "\n",
    "ds.drop(['band','spatial_ref']).hvplot(x='x',y='y',geo=True,xlim=(89,147), ylim=(-15,28),width=700,height=450,cmap='magma',xlabel='lon',tools=[hover],tiles=tiles_state)"
   ]
  },
  {
   "cell_type": "markdown",
   "id": "388e228a-b299-4ea4-809c-a186e49a17d6",
   "metadata": {},
   "source": [
    "## BIO10: Mean temperature of warmest quarter"
   ]
  },
  {
   "cell_type": "code",
   "execution_count": null,
   "id": "f897784d-10b1-4e6b-acad-8342fa74c969",
   "metadata": {},
   "outputs": [],
   "source": [
    "ds = xr.open_dataarray('worldclim_data/wc2.1_10m_bio_10.tif')\n",
    "ds = ds.sel(band=1).rename('Mean temperature of warmest quarter')\n",
    "ds = ds.sel(x=slice(45,180),y=slice(60,-60))\n",
    "\n",
    "hover = bokeh.models.HoverTool(tooltips=[(\"Temp\", \"@image °C\"),\n",
    "                                  ],\n",
    "                              formatters = {\"@Temp\":\"printf\"})\n",
    "\n",
    "ds.drop(['band','spatial_ref']).hvplot(x='x',y='y',geo=True,xlim=(89,147), ylim=(-15,28),width=700,height=450,cmap='magma',xlabel='lon',tools=[hover],tiles=tiles_state)"
   ]
  },
  {
   "cell_type": "markdown",
   "id": "87a1ffaa-7e3a-4d6e-88ca-11897b20371a",
   "metadata": {},
   "source": [
    "## BIO11: Mean temperature of coldest quarter"
   ]
  },
  {
   "cell_type": "code",
   "execution_count": null,
   "id": "b98a904e-2b0f-44dc-98d8-aead3e6a5b4f",
   "metadata": {},
   "outputs": [],
   "source": [
    "ds = xr.open_dataarray('worldclim_data/wc2.1_10m_bio_11.tif')\n",
    "ds = ds.sel(band=1).rename('Mean temperature of coldest quarter')\n",
    "ds = ds.sel(x=slice(45,180),y=slice(60,-60))\n",
    "\n",
    "hover = bokeh.models.HoverTool(tooltips=[(\"Temp\", \"@image °C\"),\n",
    "                                  ],\n",
    "                              formatters = {\"@Temp\":\"printf\"})\n",
    "\n",
    "ds.drop(['band','spatial_ref']).hvplot(x='x',y='y',geo=True,xlim=(89,147), ylim=(-15,28),width=700,height=450,cmap='magma',xlabel='lon',tools=[hover],tiles=tiles_state)"
   ]
  }
 ],
 "metadata": {
  "kernelspec": {
   "display_name": "Python 3",
   "language": "python",
   "name": "python3"
  },
  "language_info": {
   "codemirror_mode": {
    "name": "ipython",
    "version": 3
   },
   "file_extension": ".py",
   "mimetype": "text/x-python",
   "name": "python",
   "nbconvert_exporter": "python",
   "pygments_lexer": "ipython3",
   "version": "3.8.8"
  }
 },
 "nbformat": 4,
 "nbformat_minor": 5
}
