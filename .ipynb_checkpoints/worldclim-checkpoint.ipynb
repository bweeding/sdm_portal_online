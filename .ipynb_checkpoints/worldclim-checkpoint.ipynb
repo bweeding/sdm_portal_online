{
 "cells": [
  {
   "cell_type": "markdown",
   "id": "621050b3-ebc8-44f8-9f98-6d6c27fa896c",
   "metadata": {
    "tags": []
   },
   "source": [
    "# Worldclim bioclimatic data"
   ]
  },
  {
   "cell_type": "code",
   "execution_count": null,
   "id": "caf0fadd-134c-4062-a797-a94b2a763c5b",
   "metadata": {
    "tags": [
     "remove-input"
    ]
   },
   "outputs": [],
   "source": [
    "import pandas as pd\n",
    "import cartopy.crs as ccrs\n",
    "import hvplot.xarray\n",
    "import hvplot.pandas\n",
    "import xarray as xr\n",
    "from bokeh.plotting import figure, show, output_notebook\n",
    "import bokeh\n",
    "\n",
    "# output_notebook()"
   ]
  },
  {
   "cell_type": "markdown",
   "id": "5407c5e6-cf83-443b-a1ba-ef1ccb8747bd",
   "metadata": {},
   "source": [
    "## Elevation (m)"
   ]
  },
  {
   "cell_type": "code",
   "execution_count": null,
   "id": "430fc1f0-b6f8-4810-abcf-7478b1905bab",
   "metadata": {
    "tags": [
     "full-width",
     "remove-input"
    ]
   },
   "outputs": [],
   "source": [
    "ds = xr.open_dataarray('worldclim_data/wc2.1_10m_elev.tif')\n",
    "ds = ds.sel(band=1).rename('Elevation')\n",
    "\n",
    "hover = bokeh.models.HoverTool(tooltips=[(\"Elevation\", \"@image m\"),\n",
    "                                  ],\n",
    "                              formatters = {\"@Elevation\":\"printf\"})\n",
    "\n",
    "ds.drop(['band','spatial_ref']).hvplot(x='x',y='y',geo=True,xlim=(89,147), ylim=(-15,28),width=800,height=500,cmap='plasma',xlabel='lon',tools=[hover])"
   ]
  },
  {
   "cell_type": "markdown",
   "id": "907c7bfb-940e-4ed4-97ba-43a6a8d76dba",
   "metadata": {},
   "source": [
    "## Annual air mean temperature (°C)"
   ]
  },
  {
   "cell_type": "code",
   "execution_count": null,
   "id": "4c6825ef-20c4-4451-851d-c1ca6bfd3a7d",
   "metadata": {
    "tags": [
     "remove-input",
     "full-width"
    ]
   },
   "outputs": [],
   "source": [
    "ds = xr.open_dataarray('worldclim_data/wc2.1_10m_bio_1.tif')\n",
    "ds = ds.sel(band=1).rename('Annual mean air temperature')\n",
    "\n",
    "hover = bokeh.models.HoverTool(tooltips=[(\"Temp\", \"@image °C\"),\n",
    "                                  ],\n",
    "                              formatters = {\"@Temp\":\"printf\"})\n",
    "\n",
    "ds.drop(['band','spatial_ref']).hvplot(x='x',y='y',geo=True,xlim=(89,147), ylim=(-15,28),width=800,height=500,cmap='magma',xlabel='lon',tools=[hover])"
   ]
  },
  {
   "cell_type": "code",
   "execution_count": null,
   "id": "bef275bd-6b37-4189-9e3a-49599ac33a26",
   "metadata": {},
   "outputs": [],
   "source": [
    "# next steps - rename band_data so that hover cursor reads it correctly, increase legend font size, add in all additional variables, include intro and references to data!"
   ]
  },
  {
   "cell_type": "code",
   "execution_count": null,
   "id": "37e97f76-e5b1-4707-a43c-6e1f5967cbfd",
   "metadata": {},
   "outputs": [],
   "source": []
  },
  {
   "cell_type": "code",
   "execution_count": null,
   "id": "63b49d08-716f-4ec0-a3c6-afd60868c50b",
   "metadata": {},
   "outputs": [],
   "source": []
  }
 ],
 "metadata": {
  "kernelspec": {
   "display_name": "Python 3",
   "language": "python",
   "name": "python3"
  },
  "language_info": {
   "codemirror_mode": {
    "name": "ipython",
    "version": 3
   },
   "file_extension": ".py",
   "mimetype": "text/x-python",
   "name": "python",
   "nbconvert_exporter": "python",
   "pygments_lexer": "ipython3",
   "version": "3.8.8"
  }
 },
 "nbformat": 4,
 "nbformat_minor": 5
}
