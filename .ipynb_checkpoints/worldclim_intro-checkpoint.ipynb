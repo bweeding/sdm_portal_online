{
 "cells": [
  {
   "cell_type": "markdown",
   "id": "621050b3-ebc8-44f8-9f98-6d6c27fa896c",
   "metadata": {
    "tags": []
   },
   "source": [
    "# Worldclim bioclimatic data"
   ]
  },
  {
   "cell_type": "code",
   "execution_count": null,
   "id": "caf0fadd-134c-4062-a797-a94b2a763c5b",
   "metadata": {
    "tags": [
     "remove-input"
    ]
   },
   "outputs": [],
   "source": [
    "import pandas as pd\n",
    "import cartopy.crs as ccrs\n",
    "import hvplot.xarray\n",
    "import hvplot.pandas\n",
    "import xarray as xr\n",
    "from bokeh.plotting import figure, show, output_notebook\n",
    "import bokeh\n",
    "\n",
    "# output_notebook()\n",
    "\n",
    "# https://github.com/the-turing-way/the-turing-way/blob/main/book/website/_toc.yml\n",
    "\n",
    "# copy file structure from book above to reduce html sizes!"
   ]
  },
  {
   "cell_type": "markdown",
   "id": "4790bfb5-f306-4bbf-aed0-d20c949b4d50",
   "metadata": {},
   "source": [
    "This page displays the worldclim elevation and bioclimatic data variables. The contents menu at the top right can be used to navigate the page. Information on the variables can be found at https://www.worldclim.org/data/bioclim.html."
   ]
  }
 ],
 "metadata": {
  "kernelspec": {
   "display_name": "Python 3",
   "language": "python",
   "name": "python3"
  },
  "language_info": {
   "codemirror_mode": {
    "name": "ipython",
    "version": 3
   },
   "file_extension": ".py",
   "mimetype": "text/x-python",
   "name": "python",
   "nbconvert_exporter": "python",
   "pygments_lexer": "ipython3",
   "version": "3.8.8"
  }
 },
 "nbformat": 4,
 "nbformat_minor": 5
}
